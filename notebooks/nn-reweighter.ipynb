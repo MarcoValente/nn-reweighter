{
 "cells": [
  {
   "attachments": {},
   "cell_type": "markdown",
   "metadata": {},
   "source": [
    "# NN reweighter example\n",
    "\n",
    "In this notebook I want to give an example of a reweighter for multi-dimensional distributions"
   ]
  },
  {
   "attachments": {},
   "cell_type": "markdown",
   "metadata": {},
   "source": [
    "## 1. Prepare the data"
   ]
  },
  {
   "cell_type": "code",
   "execution_count": 263,
   "metadata": {},
   "outputs": [],
   "source": [
    "import numpy as np\n",
    "import matplotlib.pyplot as plt\n"
   ]
  },
  {
   "cell_type": "code",
   "execution_count": null,
   "metadata": {},
   "outputs": [],
   "source": [
    "n_events = 10000\n",
    "\n",
    "# Generating random samplings of a Gaussian function\n",
    "# with standard deviation 10 and mean 3\n",
    "X = np.dstack(\n",
    "    ( np.random.normal(3, 1, n_events), \n",
    "      np.random.normal(2, 1, n_events), \n",
    "      np.random.normal(4, 1, n_events),\n",
    "    )\n",
    "    )[0]\n",
    "y = np.dstack(\n",
    "    ( np.random.normal(2, 1, n_events),\n",
    "      np.random.normal(3, 1, n_events),\n",
    "      np.random.normal(5, 1, n_events),\n",
    "    )\n",
    "    )[0]\n",
    "print(y)\n"
   ]
  },
  {
   "cell_type": "code",
   "execution_count": null,
   "metadata": {},
   "outputs": [],
   "source": [
    "\n",
    "fig = plt.figure()\n",
    "\n",
    "plt.hist(X[:,0], histtype='step', bins=np.arange(-1, 10, 0.1), label='X', density=True)\n",
    "plt.hist(y[:,0], histtype='step', bins=np.arange(-1,10,0.1), label='y', density=True)\n",
    "plt.legend(loc='best')"
   ]
  },
  {
   "attachments": {},
   "cell_type": "markdown",
   "metadata": {},
   "source": [
    "## 2. Build and train the model"
   ]
  },
  {
   "cell_type": "code",
   "execution_count": null,
   "metadata": {},
   "outputs": [],
   "source": [
    "from sklearn.preprocessing import StandardScaler\n",
    "from sklearn.model_selection import train_test_split\n",
    "\n",
    "# array of indices, just to keep track of them for safety reasons and future checks\n",
    "ix = range(X.shape[0])\n",
    "X_train, X_test, Y_train, Y_test, ix_train, ix_test = train_test_split(\n",
    "    X, y, ix, train_size=0.6)\n",
    "\n",
    "scaler = StandardScaler()\n",
    "X_train = scaler.fit_transform(X_train)\n",
    "X_test = scaler.transform(X_test)\n"
   ]
  },
  {
   "cell_type": "code",
   "execution_count": null,
   "metadata": {},
   "outputs": [],
   "source": [
    "fig = plt.figure()\n",
    "\n",
    "plt.hist(X_train[:, 0], histtype='step',\n",
    "         bins=np.arange(-10, 10, 0.1), label='X', density=True)\n",
    "plt.hist(Y_train[:, 0], histtype='step',\n",
    "         bins=np.arange(-10, 10, 0.1), label='y', density=True)\n",
    "plt.legend(loc='best')\n"
   ]
  },
  {
   "cell_type": "code",
   "execution_count": 320,
   "metadata": {},
   "outputs": [],
   "source": [
    "import keras.backend as K\n",
    "\n",
    "\n",
    "def louppe_loss(y_true, y_pred):\n",
    "    # The loss\n",
    "    return (y_true * (K.sqrt(K.exp(y_pred))) +\n",
    "            (1.0 - y_true) * (1.0 / K.sqrt(K.exp(y_pred))))\n"
   ]
  },
  {
   "cell_type": "code",
   "execution_count": 321,
   "metadata": {},
   "outputs": [
    {
     "name": "stdout",
     "output_type": "stream",
     "text": [
      "Model: \"model_26\"\n",
      "_________________________________________________________________\n",
      " Layer (type)                Output Shape              Param #   \n",
      "=================================================================\n",
      " input_27 (InputLayer)       [(None, 5)]               0         \n",
      "                                                                 \n",
      " dense_90 (Dense)            (None, 20)                120       \n",
      "                                                                 \n",
      " dense_91 (Dense)            (None, 20)                420       \n",
      "                                                                 \n",
      " dense_92 (Dense)            (None, 20)                420       \n",
      "                                                                 \n",
      " dense_93 (Dense)            (None, 1)                 21        \n",
      "                                                                 \n",
      "=================================================================\n",
      "Total params: 981\n",
      "Trainable params: 981\n",
      "Non-trainable params: 0\n",
      "_________________________________________________________________\n"
     ]
    }
   ],
   "source": [
    "from keras.models import Model\n",
    "from keras.layers import Dense, Dropout, Input\n",
    "\n",
    "inputs = Input(shape=(X_train.shape[1], ))\n",
    "hidden = Dense(20, activation='relu')(inputs)\n",
    "hidden = Dense(20, activation='relu')(hidden)\n",
    "hidden = Dense(20, activation='relu')(hidden)\n",
    "outputs = Dense(1, activation='linear')(hidden)\n",
    "\n",
    "model = Model(inputs, outputs)\n",
    "model.summary()\n"
   ]
  },
  {
   "cell_type": "code",
   "execution_count": 322,
   "metadata": {},
   "outputs": [],
   "source": [
    "model.compile(loss=louppe_loss, metrics=['accuracy'], optimizer=\"adam\")"
   ]
  },
  {
   "cell_type": "code",
   "execution_count": 323,
   "metadata": {},
   "outputs": [
    {
     "name": "stdout",
     "output_type": "stream",
     "text": [
      "Epoch 1/20\n",
      "19152/19152 [==============================] - 20s 971us/step - loss: 0.1900 - accuracy: 0.0204\n",
      "Epoch 2/20\n",
      "19152/19152 [==============================] - 18s 932us/step - loss: 0.1827 - accuracy: 0.0202\n",
      "Epoch 3/20\n",
      "19152/19152 [==============================] - 18s 919us/step - loss: 0.1826 - accuracy: 0.0201\n",
      "Epoch 4/20\n",
      "19152/19152 [==============================] - 18s 916us/step - loss: 0.1817 - accuracy: 0.0202\n",
      "Epoch 5/20\n",
      "19152/19152 [==============================] - 18s 934us/step - loss: 0.1814 - accuracy: 0.0202\n",
      "Epoch 6/20\n",
      "19152/19152 [==============================] - 22s 1ms/step - loss: 0.1818 - accuracy: 0.0201\n",
      "Epoch 7/20\n",
      "19152/19152 [==============================] - 22s 1ms/step - loss: 0.1822 - accuracy: 0.0201\n",
      "Epoch 8/20\n",
      "19152/19152 [==============================] - 21s 1ms/step - loss: 0.1815 - accuracy: 0.0202\n",
      "Epoch 9/20\n",
      "19152/19152 [==============================] - 17s 885us/step - loss: 0.1810 - accuracy: 0.0201\n",
      "Epoch 10/20\n",
      "19152/19152 [==============================] - 18s 938us/step - loss: 0.1825 - accuracy: 0.0202\n",
      "Epoch 11/20\n",
      "19152/19152 [==============================] - 19s 980us/step - loss: 0.1812 - accuracy: 0.0201\n",
      "Epoch 12/20\n",
      "19152/19152 [==============================] - 18s 918us/step - loss: 0.1813 - accuracy: 0.0200\n",
      "Epoch 13/20\n",
      "19152/19152 [==============================] - 17s 902us/step - loss: 0.1813 - accuracy: 0.0201\n",
      "Epoch 14/20\n",
      "19152/19152 [==============================] - 17s 885us/step - loss: 0.1816 - accuracy: 0.0199\n",
      "Epoch 15/20\n",
      "19152/19152 [==============================] - 17s 900us/step - loss: 0.1812 - accuracy: 0.0200\n",
      "Epoch 16/20\n",
      "19152/19152 [==============================] - 17s 891us/step - loss: 0.1823 - accuracy: 0.0200\n",
      "Epoch 17/20\n",
      "19152/19152 [==============================] - 17s 888us/step - loss: 0.1808 - accuracy: 0.0200\n",
      "Epoch 18/20\n",
      "19152/19152 [==============================] - 17s 893us/step - loss: 0.1808 - accuracy: 0.0200\n",
      "Epoch 19/20\n",
      "19152/19152 [==============================] - 18s 935us/step - loss: 0.1813 - accuracy: 0.0200\n",
      "Epoch 20/20\n",
      "19152/19152 [==============================] - 20s 1ms/step - loss: 0.1839 - accuracy: 0.0200\n"
     ]
    }
   ],
   "source": [
    "history = model.fit(X_train, Y_train, epochs=20)"
   ]
  },
  {
   "cell_type": "code",
   "execution_count": 324,
   "metadata": {},
   "outputs": [
    {
     "name": "stdout",
     "output_type": "stream",
     "text": [
      "12769/12769 [==============================] - 8s 653us/step\n"
     ]
    }
   ],
   "source": [
    "yhat_orig = model.predict( X_test )"
   ]
  },
  {
   "cell_type": "code",
   "execution_count": 331,
   "metadata": {},
   "outputs": [
    {
     "name": "stdout",
     "output_type": "stream",
     "text": [
      "[[0.00458784]\n",
      " [0.00526539]\n",
      " [0.00441709]\n",
      " ...\n",
      " [0.00534306]\n",
      " [0.00807106]\n",
      " [0.00500662]]\n",
      "[-1.34224801  2.02558585 -1.07546755 ...  1.44260875 -0.89260552\n",
      "  0.30352684]\n"
     ]
    }
   ],
   "source": [
    "print(np.exp(yhat_orig))\n",
    "print(X_test[:,1][Y_test==0])"
   ]
  },
  {
   "cell_type": "code",
   "execution_count": 347,
   "metadata": {},
   "outputs": [
    {
     "data": {
      "text/plain": [
       "<matplotlib.legend.Legend at 0x13da47550>"
      ]
     },
     "execution_count": 347,
     "metadata": {},
     "output_type": "execute_result"
    },
    {
     "data": {
      "image/png": "[encoded data removed]",
      "text/plain": [
       "<Figure size 640x480 with 1 Axes>"
      ]
     },
     "metadata": {},
     "output_type": "display_data"
    }
   ],
   "source": [
    "plot_index = 4\n",
    "arange = np.arange(-2, 10, 0.1)\n",
    "_ = plt.hist(X_test[:, plot_index][Y_test == 1], histtype='step',\n",
    "             bins=arange, label='original', density=True,color='b')\n",
    "_ = plt.hist(X_test[:, plot_index][Y_test == 0], histtype='step',\n",
    "             bins=arange, label='target', density=True, color='r')\n",
    "_ = plt.hist(X_test[:, plot_index][Y_test == 1], histtype='step',\n",
    "             bins=arange, label='original * w', density=True, color='g', weights=np.exp(yhat_orig)[Y_test == 1])\n",
    "plt.legend(loc='best')\n"
   ]
  },
  {
   "cell_type": "code",
   "execution_count": 294,
   "metadata": {},
   "outputs": [
    {
     "name": "stdout",
     "output_type": "stream",
     "text": [
      "(8537, 1)\n",
      "(8537,)\n"
     ]
    }
   ],
   "source": [
    "print(np.exp(yhat_orig).shape)\n",
    "print(X_test[:,1][Y_test==0].shape)\n"
   ]
  },
  {
   "cell_type": "code",
   "execution_count": 328,
   "metadata": {},
   "outputs": [
    {
     "data": {
      "text/plain": [
       "[]"
      ]
     },
     "execution_count": 328,
     "metadata": {},
     "output_type": "execute_result"
    },
    {
     "data": {
      "image/png": "[encoded data removed]",
      "text/plain": [
       "<Figure size 640x480 with 1 Axes>"
      ]
     },
     "metadata": {},
     "output_type": "display_data"
    }
   ],
   "source": [
    "plt.hist(np.exp(yhat_orig)[Y_test==0])\n",
    "plt.semilogy()\n"
   ]
  },
  {
   "attachments": {},
   "cell_type": "markdown",
   "metadata": {},
   "source": [
    "## 3. Try with pandas and different file"
   ]
  },
  {
   "cell_type": "code",
   "execution_count": 264,
   "metadata": {},
   "outputs": [],
   "source": [
    "import uproot as ur\n",
    "import pandas as pd\n",
    "\n",
    "def getTree(filename, treename):\n",
    "    file = ur.open(filename)\n",
    "    tree = file[treename]\n",
    "    array = tree.arrays(['m_b', 'pt_b', 'pt_phi', 'vchi2_b', 'mu_pt_sum'],library='pd')\n",
    "    return array\n",
    "\n",
    "\n",
    "original = getTree('../data/MC_distribution.root', 'tree')\n",
    "target = getTree('../data/RD_distribution.root', 'tree')"
   ]
  },
  {
   "cell_type": "code",
   "execution_count": 265,
   "metadata": {},
   "outputs": [],
   "source": [
    "X_all = pd.concat((original, target), ignore_index=True).values\n",
    "Y_all = []\n",
    "for _df, ID in [(original, 1.), (target, 0.)]:\n",
    "    Y_all.extend([ID] * _df.shape[0])\n",
    "Y_all = np.array(Y_all)\n"
   ]
  },
  {
   "cell_type": "code",
   "execution_count": 266,
   "metadata": {},
   "outputs": [
    {
     "name": "stdout",
     "output_type": "stream",
     "text": [
      "(1021441, 5)\n"
     ]
    }
   ],
   "source": [
    "print(X_all.shape)"
   ]
  },
  {
   "cell_type": "code",
   "execution_count": 318,
   "metadata": {},
   "outputs": [
    {
     "name": "stdout",
     "output_type": "stream",
     "text": [
      "(612864, 5)\n",
      "(408577, 5)\n"
     ]
    }
   ],
   "source": [
    "from sklearn.preprocessing import StandardScaler,MinMaxScaler\n",
    "from sklearn.model_selection import train_test_split\n",
    "\n",
    "# array of indices, just to keep track of them for safety reasons and future checks\n",
    "# print(tree_MC.shape[0], tree_RD.shape[0])\n",
    "# X_train_orig = tree_MC[:21441]\n",
    "\n",
    "ix = range(X_all.shape[0])\n",
    "X_train, X_test, Y_train, Y_test, ix_train, ix_test = train_test_split(\n",
    "    X_all, Y_all, ix, train_size=0.6)\n",
    "\n",
    "\n",
    "scaler = StandardScaler()\n",
    "# scaler = MinMaxScaler(feature_range=(0,1))\n",
    "X_train = scaler.fit_transform(X_train, X_test)\n",
    "X_test = scaler.transform(X_test)\n",
    "\n",
    "print(X_train.shape)\n",
    "print(X_test.shape)\n",
    "\n",
    "# help(scaler.fit_transform)\n"
   ]
  },
  {
   "cell_type": "code",
   "execution_count": 319,
   "metadata": {},
   "outputs": [
    {
     "data": {
      "image/png": "[encoded data removed]",
      "text/plain": [
       "<Figure size 640x480 with 1 Axes>"
      ]
     },
     "metadata": {},
     "output_type": "display_data"
    }
   ],
   "source": [
    "# plt.hist(X_train_orig['pt_b'])\n",
    "_ = plt.hist(X_train[:,4][Y_train==0], histtype='step', bins=np.arange(-10, 10, 0.01), label='y', density=True)\n",
    "_ = plt.hist(X_train[:,4][Y_train==1], histtype='step', bins=np.arange(-10, 10, 0.01), label='y', density=True)\n"
   ]
  },
  {
   "cell_type": "code",
   "execution_count": null,
   "metadata": {},
   "outputs": [],
   "source": []
  }
 ],
 "metadata": {
  "kernelspec": {
   "display_name": "venv",
   "language": "python",
   "name": "python3"
  },
  "language_info": {
   "codemirror_mode": {
    "name": "ipython",
    "version": 3
   },
   "file_extension": ".py",
   "mimetype": "text/x-python",
   "name": "python",
   "nbconvert_exporter": "python",
   "pygments_lexer": "ipython3",
   "version": "3.10.9"
  },
  "orig_nbformat": 4,
  "vscode": {
   "interpreter": {
    "hash": "80f6ceb56f4bb7e8d512df83234221601eac46f8e0702e893138311b35613713"
   }
  }
 },
 "nbformat": 4,
 "nbformat_minor": 2
}
